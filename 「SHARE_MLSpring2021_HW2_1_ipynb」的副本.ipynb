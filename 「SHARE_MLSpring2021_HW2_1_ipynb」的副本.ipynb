{
  "cells": [
    {
      "cell_type": "markdown",
      "metadata": {
        "id": "OYlaRwNu7ojq"
      },
      "source": [
        "# **Homework 2-1 Phoneme Classification**\n",
        "\n",
        "* Slides: https://speech.ee.ntu.edu.tw/~hylee/ml/ml2021-course-data/hw/HW02/HW02.pdf\n",
        "* Video (Chinese): https://youtu.be/PdjXnQbu2zo\n",
        "* Video (English): https://youtu.be/ESRr-VCykBs\n"
      ]
    },
    {
      "cell_type": "markdown",
      "metadata": {
        "id": "emUd7uS7crTz"
      },
      "source": [
        "## The DARPA TIMIT Acoustic-Phonetic Continuous Speech Corpus (TIMIT)\n",
        "The TIMIT corpus of reading speech has been designed to provide speech data for the acquisition of acoustic-phonetic knowledge and for the development and evaluation of automatic speech recognition systems.\n",
        "\n",
        "This homework is a multiclass classification task,\n",
        "we are going to train a deep neural network classifier to predict the phonemes for each frame from the speech corpus TIMIT.\n",
        "\n",
        "link: https://academictorrents.com/details/34e2b78745138186976cbc27939b1b34d18bd5b3"
      ]
    },
    {
      "cell_type": "markdown",
      "metadata": {
        "id": "KVUGfWTo7_Oj"
      },
      "source": [
        "## Download Data\n",
        "Download data from google drive, then unzip it.\n",
        "\n",
        "You should have `timit_11/train_11.npy`, `timit_11/train_label_11.npy`, and `timit_11/test_11.npy` after running this block.<br><br>\n",
        "`timit_11/`\n",
        "- `train_11.npy`: training data<br>\n",
        "- `train_label_11.npy`: training label<br>\n",
        "- `test_11.npy`:  testing data<br><br>\n",
        "\n",
        "**notes: if the google drive link is dead, you can download the data directly from Kaggle and upload it to the workspace**\n",
        "\n",
        "\n"
      ]
    },
    {
      "cell_type": "code",
      "execution_count": null,
      "metadata": {
        "colab": {
          "background_save": true,
          "base_uri": "https://localhost:8080/"
        },
        "id": "OzkiMEcC3Foq",
        "outputId": "01ba788c-51d5-4e17-e754-66f85239b4a6"
      },
      "outputs": [
        {
          "name": "stdout",
          "output_type": "stream",
          "text": [
            "/usr/local/lib/python3.10/dist-packages/gdown/__main__.py:132: FutureWarning: Option `--id` was deprecated in version 4.3.1 and will be removed in 5.0. You don't need to pass it anymore to use a file ID.\n",
            "  warnings.warn(\n",
            "Downloading...\n",
            "From (original): https://drive.google.com/uc?id=1HPkcmQmFGu-3OknddKIa5dNDsR05lIQR\n",
            "From (redirected): https://drive.google.com/uc?id=1HPkcmQmFGu-3OknddKIa5dNDsR05lIQR&confirm=t&uuid=090cdb03-a13b-4415-8deb-41340cbf3f88\n",
            "To: /content/data.zip\n",
            "100% 372M/372M [00:08<00:00, 41.7MB/s]\n",
            "Archive:  data.zip\n",
            "replace timit_11/train_11.npy? [y]es, [n]o, [A]ll, [N]one, [r]ename: "
          ]
        }
      ],
      "source": [
        "!gdown --id '1HPkcmQmFGu-3OknddKIa5dNDsR05lIQR' --output data.zip\n",
        "!unzip data.zip\n",
        "!ls"
      ]
    },
    {
      "cell_type": "markdown",
      "metadata": {
        "id": "_L_4anls8Drv"
      },
      "source": [
        "## Preparing Data\n",
        "Load the training and testing data from the `.npy` file (NumPy array)."
      ]
    },
    {
      "cell_type": "code",
      "execution_count": null,
      "metadata": {
        "id": "IJjLT8em-y9G"
      },
      "outputs": [],
      "source": [
        "import numpy as np\n",
        "\n",
        "print('Loading data ...')\n",
        "\n",
        "data_root='./timit_11/'\n",
        "train = np.load(data_root + 'train_11.npy')\n",
        "train_label = np.load(data_root + 'train_label_11.npy')\n",
        "test = np.load(data_root + 'test_11.npy')\n",
        "\n",
        "print('Size of training data: {}'.format(train.shape))\n",
        "print('Size of testing data: {}'.format(test.shape))"
      ]
    },
    {
      "cell_type": "markdown",
      "metadata": {
        "id": "us5XW_x6udZQ"
      },
      "source": [
        "## Create Dataset"
      ]
    },
    {
      "cell_type": "code",
      "execution_count": null,
      "metadata": {
        "id": "Fjf5EcmJtf4e"
      },
      "outputs": [],
      "source": [
        "import torch\n",
        "from torch.utils.data import Dataset\n",
        "\n",
        "class TIMITDataset(Dataset):\n",
        "    def __init__(self, X, y=None):\n",
        "        self.data = torch.from_numpy(X).float()\n",
        "        if y is not None:\n",
        "            y = y.astype(int)\n",
        "            self.label = torch.LongTensor(y)\n",
        "        else:\n",
        "            self.label = None\n",
        "\n",
        "    def __getitem__(self, idx):\n",
        "        if self.label is not None:\n",
        "            return self.data[idx], self.label[idx]\n",
        "        else:\n",
        "            return self.data[idx]\n",
        "\n",
        "    def __len__(self):\n",
        "        return len(self.data)\n"
      ]
    },
    {
      "cell_type": "markdown",
      "metadata": {
        "id": "otIC6WhGeh9v"
      },
      "source": [
        "Split the labeled data into a training set and a validation set, you can modify the variable `VAL_RATIO` to change the ratio of validation data."
      ]
    },
    {
      "cell_type": "code",
      "execution_count": null,
      "metadata": {
        "colab": {
          "base_uri": "https://localhost:8080/",
          "height": 228
        },
        "id": "sYqi_lAuvC59",
        "outputId": "5583b1ec-5b5d-48cf-ef6c-0d2d65939ce4"
      },
      "outputs": [
        {
          "ename": "NameError",
          "evalue": "name 'train' is not defined",
          "output_type": "error",
          "traceback": [
            "\u001b[0;31m---------------------------------------------------------------------------\u001b[0m",
            "\u001b[0;31mNameError\u001b[0m                                 Traceback (most recent call last)",
            "\u001b[0;32m<ipython-input-3-7e9074c67b4f>\u001b[0m in \u001b[0;36m<cell line: 4>\u001b[0;34m()\u001b[0m\n\u001b[1;32m      2\u001b[0m \u001b[0mweight_decay_l1\u001b[0m \u001b[0;34m=\u001b[0m \u001b[0;36m0.0001\u001b[0m\u001b[0;34m\u001b[0m\u001b[0;34m\u001b[0m\u001b[0m\n\u001b[1;32m      3\u001b[0m \u001b[0mweight_decay_l2\u001b[0m \u001b[0;34m=\u001b[0m \u001b[0;36m0.001\u001b[0m\u001b[0;34m\u001b[0m\u001b[0;34m\u001b[0m\u001b[0m\n\u001b[0;32m----> 4\u001b[0;31m \u001b[0mpercent\u001b[0m \u001b[0;34m=\u001b[0m \u001b[0mint\u001b[0m\u001b[0;34m(\u001b[0m\u001b[0mtrain\u001b[0m\u001b[0;34m.\u001b[0m\u001b[0mshape\u001b[0m\u001b[0;34m[\u001b[0m\u001b[0;36m0\u001b[0m\u001b[0;34m]\u001b[0m \u001b[0;34m*\u001b[0m \u001b[0;34m(\u001b[0m\u001b[0;36m1\u001b[0m \u001b[0;34m-\u001b[0m \u001b[0mVAL_RATIO\u001b[0m\u001b[0;34m)\u001b[0m\u001b[0;34m)\u001b[0m\u001b[0;34m\u001b[0m\u001b[0;34m\u001b[0m\u001b[0m\n\u001b[0m\u001b[1;32m      5\u001b[0m \u001b[0mtrain_x\u001b[0m\u001b[0;34m,\u001b[0m \u001b[0mtrain_y\u001b[0m\u001b[0;34m,\u001b[0m \u001b[0mval_x\u001b[0m\u001b[0;34m,\u001b[0m \u001b[0mval_y\u001b[0m \u001b[0;34m=\u001b[0m \u001b[0mtrain\u001b[0m\u001b[0;34m[\u001b[0m\u001b[0;34m:\u001b[0m\u001b[0mpercent\u001b[0m\u001b[0;34m]\u001b[0m\u001b[0;34m,\u001b[0m \u001b[0mtrain_label\u001b[0m\u001b[0;34m[\u001b[0m\u001b[0;34m:\u001b[0m\u001b[0mpercent\u001b[0m\u001b[0;34m]\u001b[0m\u001b[0;34m,\u001b[0m \u001b[0mtrain\u001b[0m\u001b[0;34m[\u001b[0m\u001b[0mpercent\u001b[0m\u001b[0;34m:\u001b[0m\u001b[0;34m]\u001b[0m\u001b[0;34m,\u001b[0m \u001b[0mtrain_label\u001b[0m\u001b[0;34m[\u001b[0m\u001b[0mpercent\u001b[0m\u001b[0;34m:\u001b[0m\u001b[0;34m]\u001b[0m\u001b[0;34m\u001b[0m\u001b[0;34m\u001b[0m\u001b[0m\n\u001b[1;32m      6\u001b[0m \u001b[0mprint\u001b[0m\u001b[0;34m(\u001b[0m\u001b[0;34m'Size of training set: {}'\u001b[0m\u001b[0;34m.\u001b[0m\u001b[0mformat\u001b[0m\u001b[0;34m(\u001b[0m\u001b[0mtrain_x\u001b[0m\u001b[0;34m.\u001b[0m\u001b[0mshape\u001b[0m\u001b[0;34m)\u001b[0m\u001b[0;34m)\u001b[0m\u001b[0;34m\u001b[0m\u001b[0;34m\u001b[0m\u001b[0m\n",
            "\u001b[0;31mNameError\u001b[0m: name 'train' is not defined"
          ]
        }
      ],
      "source": [
        "VAL_RATIO = 0.01\n",
        "weight_decay_l1 = 0.0001\n",
        "weight_decay_l2 = 0.001\n",
        "percent = int(train.shape[0] * (1 - VAL_RATIO))\n",
        "train_x, train_y, val_x, val_y = train[:percent], train_label[:percent], train[percent:], train_label[percent:]\n",
        "print('Size of training set: {}'.format(train_x.shape))\n",
        "print('Size of validation set: {}'.format(val_x.shape))"
      ]
    },
    {
      "cell_type": "markdown",
      "metadata": {
        "id": "nbCfclUIgMTX"
      },
      "source": [
        "Create a data loader from the dataset, feel free to tweak the variable `BATCH_SIZE` here."
      ]
    },
    {
      "cell_type": "code",
      "execution_count": null,
      "metadata": {
        "id": "RUCbQvqJurYc"
      },
      "outputs": [],
      "source": [
        "BATCH_SIZE = 2048\n",
        "\n",
        "from torch.utils.data import DataLoader\n",
        "\n",
        "train_set = TIMITDataset(train_x, train_y)\n",
        "val_set = TIMITDataset(val_x, val_y)\n",
        "train_loader = DataLoader(train_set, batch_size=BATCH_SIZE, shuffle=True) #only shuffle the training data\n",
        "val_loader = DataLoader(val_set, batch_size=BATCH_SIZE, shuffle=False)"
      ]
    },
    {
      "cell_type": "code",
      "execution_count": null,
      "metadata": {
        "id": "JqOgB25bycjE"
      },
      "outputs": [],
      "source": [
        "\n",
        "# 紀錄每個類的id，方便sample\n",
        "train_class = []\n",
        "id = np.arange(train_x.shape[0])\n",
        "for i in range(39):\n",
        "    train_class.append(id[train_y == str(i)])\n"
      ]
    },
    {
      "cell_type": "code",
      "execution_count": null,
      "metadata": {
        "colab": {
          "base_uri": "https://localhost:8080/",
          "height": 263
        },
        "id": "_lsQug1AwxiB",
        "outputId": "6158179d-5162-4bf9-93a4-874e636b1c38"
      },
      "outputs": [
        {
          "name": "stdout",
          "output_type": "stream",
          "text": [
            "Sample data:\n",
            "\n",
            "   class   count\n"
          ]
        },
        {
          "ename": "NameError",
          "evalue": "name 'train_class' is not defined",
          "output_type": "error",
          "traceback": [
            "\u001b[0;31m---------------------------------------------------------------------------\u001b[0m",
            "\u001b[0;31mNameError\u001b[0m                                 Traceback (most recent call last)",
            "\u001b[0;32m<ipython-input-1-e7b6fd0a62cd>\u001b[0m in \u001b[0;36m<cell line: 4>\u001b[0;34m()\u001b[0m\n\u001b[1;32m      2\u001b[0m \u001b[0mprint\u001b[0m \u001b[0;34m(\u001b[0m\u001b[0;34m\"Sample data:\"\u001b[0m\u001b[0;34m)\u001b[0m\u001b[0;34m\u001b[0m\u001b[0;34m\u001b[0m\u001b[0m\n\u001b[1;32m      3\u001b[0m \u001b[0mprint\u001b[0m \u001b[0;34m(\u001b[0m\u001b[0;34m\"\\n   class   count\"\u001b[0m\u001b[0;34m)\u001b[0m\u001b[0;34m\u001b[0m\u001b[0;34m\u001b[0m\u001b[0m\n\u001b[0;32m----> 4\u001b[0;31m \u001b[0;32mfor\u001b[0m \u001b[0mi\u001b[0m \u001b[0;32min\u001b[0m \u001b[0mrange\u001b[0m\u001b[0;34m(\u001b[0m\u001b[0mlen\u001b[0m\u001b[0;34m(\u001b[0m\u001b[0mtrain_class\u001b[0m\u001b[0;34m)\u001b[0m\u001b[0;34m)\u001b[0m\u001b[0;34m:\u001b[0m\u001b[0;34m\u001b[0m\u001b[0;34m\u001b[0m\u001b[0m\n\u001b[0m\u001b[1;32m      5\u001b[0m     \u001b[0;32mif\u001b[0m \u001b[0;34m(\u001b[0m\u001b[0mtrain_class\u001b[0m\u001b[0;34m[\u001b[0m\u001b[0mi\u001b[0m\u001b[0;34m]\u001b[0m\u001b[0;34m.\u001b[0m\u001b[0mshape\u001b[0m\u001b[0;34m[\u001b[0m\u001b[0;36m0\u001b[0m\u001b[0;34m]\u001b[0m \u001b[0;34m<\u001b[0m \u001b[0mnumber\u001b[0m\u001b[0;34m)\u001b[0m\u001b[0;34m:\u001b[0m\u001b[0;34m\u001b[0m\u001b[0;34m\u001b[0m\u001b[0m\n\u001b[1;32m      6\u001b[0m         \u001b[0mprint\u001b[0m \u001b[0;34m(\u001b[0m\u001b[0;34m\"{:8d}\"\u001b[0m\u001b[0;34m.\u001b[0m\u001b[0mformat\u001b[0m\u001b[0;34m(\u001b[0m\u001b[0mi\u001b[0m\u001b[0;34m)\u001b[0m\u001b[0;34m,\u001b[0m \u001b[0mend\u001b[0m\u001b[0;34m=\u001b[0m\u001b[0;34m''\u001b[0m\u001b[0;34m)\u001b[0m\u001b[0;34m\u001b[0m\u001b[0;34m\u001b[0m\u001b[0m\n",
            "\u001b[0;31mNameError\u001b[0m: name 'train_class' is not defined"
          ]
        }
      ],
      "source": [
        "number = 10000\n",
        "print (\"Sample data:\")\n",
        "print (\"\\n   class   count\")\n",
        "for i in range(len(train_class)):\n",
        "    if (train_class[i].shape[0] < number):\n",
        "        print (\"{:8d}\".format(i), end='')\n",
        "        print (\"{:8d}\".format(number - train_class[i].shape[0]))\n",
        "\n",
        "        id = np.random.choice(train_class[i], size=number-train_class[i].shape[0])\n",
        "        train_x = np.vstack((train_x, train_x[id]))\n",
        "        label = np.empty((id.shape[0]), dtype=int)\n",
        "        train_y = np.append(train_y, label)\n",
        "        train_y[-id.shape[0]:] = int(i)\n",
        "\n",
        "print (\"\\n\", train_x.shape, train_y.shape)\n",
        "train_set = TIMITDataset(train_x, train_y)\n",
        "train_loader = DataLoader(train_set, batch_size=BATCH_SIZE, shuffle=True, drop_last=True)"
      ]
    },
    {
      "cell_type": "markdown",
      "metadata": {
        "id": "_SY7X0lUgb50"
      },
      "source": [
        "Cleanup the unneeded variables to save memory.<br>\n",
        "\n",
        "**notes: if you need to use these variables later, then you may remove this block or clean up unneeded variables later<br>the data size is quite huge, so be aware of memory usage in colab**"
      ]
    },
    {
      "cell_type": "code",
      "execution_count": null,
      "metadata": {
        "colab": {
          "base_uri": "https://localhost:8080/"
        },
        "id": "y8rzkGraeYeN",
        "outputId": "df4d031b-600f-4c14-b1bd-bc1dceca7b5f"
      },
      "outputs": [
        {
          "data": {
            "text/plain": [
              "0"
            ]
          },
          "execution_count": 7,
          "metadata": {},
          "output_type": "execute_result"
        }
      ],
      "source": [
        "import gc\n",
        "\n",
        "del train, train_label, train_x, train_y, val_x, val_y\n",
        "gc.collect()"
      ]
    },
    {
      "cell_type": "markdown",
      "metadata": {
        "id": "IRqKNvNZwe3V"
      },
      "source": [
        "## Create Model"
      ]
    },
    {
      "cell_type": "markdown",
      "metadata": {
        "id": "FYr1ng5fh9pA"
      },
      "source": [
        "Define model architecture, you are encouraged to change and experiment with the model architecture."
      ]
    },
    {
      "cell_type": "code",
      "execution_count": null,
      "metadata": {
        "id": "lbZrwT6Ny0XL"
      },
      "outputs": [],
      "source": [
        "import torch\n",
        "import torch.nn as nn\n",
        "\n",
        "class Classifier(nn.Module):\n",
        "    def __init__(self):\n",
        "        super(Classifier, self).__init__()\n",
        "        self.net = nn.Sequential(\n",
        "            nn.Linear(429, 2048), # 1\n",
        "            nn.LeakyReLU(),\n",
        "            #nn.ReLU(),\n",
        "\n",
        "            nn.BatchNorm1d(2048),\n",
        "            nn.Dropout(0.5),\n",
        "            nn.Linear(2048, 2048), # 2\n",
        "            nn.LeakyReLU(),\n",
        "            #nn.ReLU(),\n",
        "\n",
        "            nn.BatchNorm1d(2048),\n",
        "            nn.Dropout(0.5),\n",
        "            nn.Linear(2048, 2048), # 2\n",
        "            nn.LeakyReLU(),\n",
        "            #nn.ReLU(),\n",
        "\n",
        "            nn.BatchNorm1d(2048),\n",
        "            nn.Dropout(0.5),\n",
        "            nn.Linear(2048,1024), # 3\n",
        "            nn.LeakyReLU(),\n",
        "            #nn.ReLU(),\n",
        "\n",
        "            nn.BatchNorm1d(1024),\n",
        "            nn.Dropout(0.5),\n",
        "            nn.Linear(1024, 512), # 4\n",
        "            #nn.ReLU(),\n",
        "\n",
        "            nn.LeakyReLU(),\n",
        "            nn.BatchNorm1d(512),\n",
        "            nn.Dropout(0.5),\n",
        "            nn.Linear(512, 256), # 5\n",
        "            #nn.ReLU(),\n",
        "\n",
        "            nn.LeakyReLU(),\n",
        "            nn.BatchNorm1d(512),\n",
        "            nn.Dropout(0.5),\n",
        "            nn.Linear(256, 128), # 6\n",
        "\n",
        "            nn.LeakyReLU(),\n",
        "            nn.BatchNorm1d(128),\n",
        "            nn.Dropout(0.5),\n",
        "            nn.Linear(128, 39)\n",
        "        )\n",
        "\n",
        "    def forward(self, x):\n",
        "        x = self.net(x)\n",
        "        return x"
      ]
    },
    {
      "cell_type": "markdown",
      "metadata": {
        "id": "VRYciXZvPbYh"
      },
      "source": [
        "## Training"
      ]
    },
    {
      "cell_type": "code",
      "execution_count": null,
      "metadata": {
        "id": "XTR3t3dbS4P7"
      },
      "outputs": [],
      "source": [
        "def cal_regularization(model, l1_decay, l2_decay):\n",
        "  l1 = 0\n",
        "  l2 = 0\n",
        "  for p in model.parameters():\n",
        "    l1 += torch.sum(torch.abs(p))\n",
        "    l2 += torch.sum(p**2)\n",
        "  return l1_decay * l1 + l2_decay * l2"
      ]
    },
    {
      "cell_type": "code",
      "execution_count": null,
      "metadata": {
        "id": "y114Vmm3Ja6o"
      },
      "outputs": [],
      "source": [
        "#check device\n",
        "def get_device():\n",
        "  return 'cuda' if torch.cuda.is_available() else 'cpu'"
      ]
    },
    {
      "cell_type": "markdown",
      "metadata": {
        "id": "sEX-yjHjhGuH"
      },
      "source": [
        "Fix random seeds for reproducibility."
      ]
    },
    {
      "cell_type": "code",
      "execution_count": null,
      "metadata": {
        "id": "88xPiUnm0tAd"
      },
      "outputs": [],
      "source": [
        "# fix random seed\n",
        "def same_seeds(seed):\n",
        "    torch.manual_seed(seed)\n",
        "    if torch.cuda.is_available():\n",
        "        torch.cuda.manual_seed(seed)\n",
        "        torch.cuda.manual_seed_all(seed)\n",
        "    np.random.seed(seed)\n",
        "    torch.backends.cudnn.benchmark = False\n",
        "    torch.backends.cudnn.deterministic = True"
      ]
    },
    {
      "cell_type": "markdown",
      "metadata": {
        "id": "KbBcBXkSp6RA"
      },
      "source": [
        "Feel free to change the training parameters here."
      ]
    },
    {
      "cell_type": "code",
      "execution_count": null,
      "metadata": {
        "colab": {
          "base_uri": "https://localhost:8080/"
        },
        "id": "QTp3ZXg1yO9Y",
        "outputId": "8b7054ac-32a1-47ab-f761-b9407f3a54ee"
      },
      "outputs": [
        {
          "name": "stdout",
          "output_type": "stream",
          "text": [
            "DEVICE: cuda\n"
          ]
        }
      ],
      "source": [
        "# fix random seed for reproducibility\n",
        "same_seeds(0)\n",
        "\n",
        "# get device\n",
        "device = get_device()\n",
        "print(f'DEVICE: {device}')\n",
        "\n",
        "# training parameters\n",
        "num_epoch = 200               # number of training epoch\n",
        "learning_rate = 0.0001       # learning rate\n",
        "\n",
        "# the path where checkpoint saved\n",
        "model_path = './model.ckpt'\n",
        "\n",
        "# create model, define a loss function, and optimizer\n",
        "model = Classifier().to(device)\n",
        "criterion = nn.CrossEntropyLoss()\n",
        "optimizer = torch.optim.Adam(model.parameters(), lr=learning_rate)"
      ]
    },
    {
      "cell_type": "code",
      "execution_count": null,
      "metadata": {
        "colab": {
          "base_uri": "https://localhost:8080/"
        },
        "id": "CdMWsBs7zzNs",
        "outputId": "30bf1397-8cad-4ee0-81ad-1fd62069069b"
      },
      "outputs": [
        {
          "name": "stdout",
          "output_type": "stream",
          "text": [
            "[001/200] Train Acc: 0.424073 Loss: 2.069476 | Val Acc: 0.581951 loss: 1.300098\n",
            "saving model with acc 0.582\n",
            "[002/200] Train Acc: 0.569964 Loss: 1.460571 | Val Acc: 0.632276 loss: 1.118925\n",
            "saving model with acc 0.632\n",
            "[003/200] Train Acc: 0.599754 Loss: 1.345179 | Val Acc: 0.654553 loss: 1.037704\n",
            "saving model with acc 0.655\n",
            "[004/200] Train Acc: 0.614921 Loss: 1.289095 | Val Acc: 0.664959 loss: 0.988298\n",
            "saving model with acc 0.665\n",
            "[005/200] Train Acc: 0.624358 Loss: 1.254758 | Val Acc: 0.660732 loss: 0.991265\n",
            "[006/200] Train Acc: 0.630962 Loss: 1.231809 | Val Acc: 0.664472 loss: 0.959393\n",
            "[007/200] Train Acc: 0.636322 Loss: 1.213170 | Val Acc: 0.666179 loss: 0.999591\n",
            "saving model with acc 0.666\n",
            "[008/200] Train Acc: 0.639575 Loss: 1.199820 | Val Acc: 0.674390 loss: 0.941792\n",
            "saving model with acc 0.674\n",
            "[009/200] Train Acc: 0.643180 Loss: 1.188662 | Val Acc: 0.672764 loss: 0.954428\n",
            "[010/200] Train Acc: 0.646084 Loss: 1.179637 | Val Acc: 0.683659 loss: 0.934290\n",
            "saving model with acc 0.684\n",
            "[011/200] Train Acc: 0.648542 Loss: 1.171416 | Val Acc: 0.677398 loss: 0.934837\n",
            "[012/200] Train Acc: 0.650608 Loss: 1.164909 | Val Acc: 0.673252 loss: 0.950245\n",
            "[013/200] Train Acc: 0.652993 Loss: 1.157978 | Val Acc: 0.683577 loss: 0.916517\n",
            "[014/200] Train Acc: 0.654408 Loss: 1.152334 | Val Acc: 0.686504 loss: 0.910161\n",
            "saving model with acc 0.687\n",
            "[015/200] Train Acc: 0.657075 Loss: 1.144579 | Val Acc: 0.688049 loss: 0.903765\n",
            "saving model with acc 0.688\n",
            "[016/200] Train Acc: 0.659040 Loss: 1.138521 | Val Acc: 0.688455 loss: 0.916832\n",
            "saving model with acc 0.688\n",
            "[017/200] Train Acc: 0.660107 Loss: 1.133782 | Val Acc: 0.689756 loss: 0.885094\n",
            "saving model with acc 0.690\n",
            "[018/200] Train Acc: 0.662054 Loss: 1.129487 | Val Acc: 0.691870 loss: 0.892335\n",
            "saving model with acc 0.692\n",
            "[019/200] Train Acc: 0.662366 Loss: 1.127286 | Val Acc: 0.691463 loss: 0.894096\n",
            "[020/200] Train Acc: 0.663958 Loss: 1.123300 | Val Acc: 0.690407 loss: 0.901240\n",
            "[021/200] Train Acc: 0.664973 Loss: 1.119013 | Val Acc: 0.694146 loss: 0.871782\n",
            "saving model with acc 0.694\n",
            "[022/200] Train Acc: 0.665780 Loss: 1.117141 | Val Acc: 0.700081 loss: 0.865752\n",
            "saving model with acc 0.700\n",
            "[023/200] Train Acc: 0.666526 Loss: 1.114057 | Val Acc: 0.698943 loss: 0.866302\n",
            "[024/200] Train Acc: 0.667285 Loss: 1.112380 | Val Acc: 0.701545 loss: 0.867177\n",
            "saving model with acc 0.702\n",
            "[025/200] Train Acc: 0.667319 Loss: 1.110355 | Val Acc: 0.696748 loss: 0.885978\n",
            "[026/200] Train Acc: 0.667682 Loss: 1.109582 | Val Acc: 0.696098 loss: 0.863084\n",
            "[027/200] Train Acc: 0.668118 Loss: 1.107951 | Val Acc: 0.698862 loss: 0.866815\n",
            "[028/200] Train Acc: 0.668660 Loss: 1.105596 | Val Acc: 0.696829 loss: 0.868707\n",
            "[029/200] Train Acc: 0.668406 Loss: 1.106679 | Val Acc: 0.700976 loss: 0.854430\n",
            "[030/200] Train Acc: 0.668871 Loss: 1.105272 | Val Acc: 0.696098 loss: 0.863539\n",
            "[031/200] Train Acc: 0.669173 Loss: 1.103236 | Val Acc: 0.693659 loss: 0.882460\n",
            "[032/200] Train Acc: 0.669437 Loss: 1.102622 | Val Acc: 0.697398 loss: 0.878361\n",
            "[033/200] Train Acc: 0.669259 Loss: 1.102136 | Val Acc: 0.702602 loss: 0.849911\n",
            "saving model with acc 0.703\n",
            "[034/200] Train Acc: 0.669659 Loss: 1.100737 | Val Acc: 0.697398 loss: 0.864969\n",
            "[035/200] Train Acc: 0.669999 Loss: 1.100358 | Val Acc: 0.702358 loss: 0.841477\n",
            "[036/200] Train Acc: 0.669982 Loss: 1.099262 | Val Acc: 0.710407 loss: 0.837896\n",
            "saving model with acc 0.710\n",
            "[037/200] Train Acc: 0.670227 Loss: 1.099129 | Val Acc: 0.700569 loss: 0.855722\n",
            "[038/200] Train Acc: 0.670611 Loss: 1.097441 | Val Acc: 0.704472 loss: 0.853982\n",
            "[039/200] Train Acc: 0.670358 Loss: 1.097511 | Val Acc: 0.701870 loss: 0.882103\n",
            "[040/200] Train Acc: 0.670793 Loss: 1.097466 | Val Acc: 0.706098 loss: 0.844760\n",
            "[041/200] Train Acc: 0.670979 Loss: 1.096853 | Val Acc: 0.705772 loss: 0.838948\n",
            "[042/200] Train Acc: 0.670487 Loss: 1.096830 | Val Acc: 0.707805 loss: 0.851255\n",
            "[043/200] Train Acc: 0.670767 Loss: 1.097257 | Val Acc: 0.704472 loss: 0.858475\n",
            "[044/200] Train Acc: 0.670922 Loss: 1.095565 | Val Acc: 0.700325 loss: 0.849281\n",
            "[045/200] Train Acc: 0.670935 Loss: 1.095078 | Val Acc: 0.703659 loss: 0.849923\n",
            "[046/200] Train Acc: 0.671090 Loss: 1.093769 | Val Acc: 0.710488 loss: 0.839181\n",
            "saving model with acc 0.710\n",
            "[047/200] Train Acc: 0.671499 Loss: 1.094571 | Val Acc: 0.695366 loss: 0.876281\n",
            "[048/200] Train Acc: 0.670693 Loss: 1.095616 | Val Acc: 0.701463 loss: 0.850224\n",
            "[049/200] Train Acc: 0.671457 Loss: 1.094422 | Val Acc: 0.706016 loss: 0.851548\n",
            "[050/200] Train Acc: 0.671563 Loss: 1.094287 | Val Acc: 0.703252 loss: 0.844750\n",
            "[051/200] Train Acc: 0.671356 Loss: 1.094460 | Val Acc: 0.701707 loss: 0.865985\n",
            "[052/200] Train Acc: 0.671221 Loss: 1.093705 | Val Acc: 0.705854 loss: 0.844927\n",
            "[053/200] Train Acc: 0.671432 Loss: 1.093096 | Val Acc: 0.701138 loss: 0.855598\n",
            "[054/200] Train Acc: 0.671821 Loss: 1.091761 | Val Acc: 0.704797 loss: 0.850163\n",
            "[055/200] Train Acc: 0.671544 Loss: 1.092999 | Val Acc: 0.705122 loss: 0.852946\n",
            "[056/200] Train Acc: 0.671483 Loss: 1.092945 | Val Acc: 0.704228 loss: 0.860114\n",
            "[057/200] Train Acc: 0.671971 Loss: 1.091333 | Val Acc: 0.702602 loss: 0.845200\n",
            "[058/200] Train Acc: 0.671200 Loss: 1.093029 | Val Acc: 0.702439 loss: 0.854933\n",
            "[059/200] Train Acc: 0.672091 Loss: 1.091557 | Val Acc: 0.704715 loss: 0.848441\n",
            "[060/200] Train Acc: 0.671454 Loss: 1.092195 | Val Acc: 0.709593 loss: 0.834440\n",
            "[061/200] Train Acc: 0.671565 Loss: 1.092113 | Val Acc: 0.705041 loss: 0.855441\n",
            "[062/200] Train Acc: 0.671585 Loss: 1.092281 | Val Acc: 0.697886 loss: 0.861140\n",
            "[063/200] Train Acc: 0.671805 Loss: 1.091799 | Val Acc: 0.699512 loss: 0.867233\n",
            "[064/200] Train Acc: 0.671369 Loss: 1.092470 | Val Acc: 0.706260 loss: 0.847354\n",
            "[065/200] Train Acc: 0.672105 Loss: 1.090294 | Val Acc: 0.701870 loss: 0.849863\n",
            "[066/200] Train Acc: 0.671298 Loss: 1.093242 | Val Acc: 0.706423 loss: 0.846840\n",
            "[067/200] Train Acc: 0.671765 Loss: 1.091480 | Val Acc: 0.705935 loss: 0.836715\n",
            "[068/200] Train Acc: 0.671494 Loss: 1.092220 | Val Acc: 0.709593 loss: 0.833530\n",
            "[069/200] Train Acc: 0.671723 Loss: 1.090286 | Val Acc: 0.705041 loss: 0.846649\n",
            "[070/200] Train Acc: 0.671633 Loss: 1.090959 | Val Acc: 0.706667 loss: 0.841547\n",
            "[071/200] Train Acc: 0.672054 Loss: 1.090967 | Val Acc: 0.700813 loss: 0.844736\n",
            "[072/200] Train Acc: 0.672107 Loss: 1.090431 | Val Acc: 0.708862 loss: 0.831075\n",
            "[073/200] Train Acc: 0.671811 Loss: 1.091986 | Val Acc: 0.702114 loss: 0.854319\n",
            "[074/200] Train Acc: 0.672151 Loss: 1.090163 | Val Acc: 0.704309 loss: 0.851346\n",
            "[075/200] Train Acc: 0.671863 Loss: 1.091055 | Val Acc: 0.708049 loss: 0.848266\n",
            "[076/200] Train Acc: 0.672030 Loss: 1.091042 | Val Acc: 0.700569 loss: 0.849638\n",
            "[077/200] Train Acc: 0.672233 Loss: 1.089556 | Val Acc: 0.706504 loss: 0.838333\n",
            "[078/200] Train Acc: 0.672200 Loss: 1.090519 | Val Acc: 0.713089 loss: 0.828670\n",
            "saving model with acc 0.713\n",
            "[079/200] Train Acc: 0.671875 Loss: 1.090820 | Val Acc: 0.702276 loss: 0.852755\n",
            "[080/200] Train Acc: 0.672040 Loss: 1.089351 | Val Acc: 0.708537 loss: 0.855315\n",
            "[081/200] Train Acc: 0.671871 Loss: 1.090392 | Val Acc: 0.704553 loss: 0.836623\n",
            "[082/200] Train Acc: 0.672349 Loss: 1.090095 | Val Acc: 0.705285 loss: 0.856438\n",
            "[083/200] Train Acc: 0.671615 Loss: 1.090424 | Val Acc: 0.702276 loss: 0.851638\n",
            "[084/200] Train Acc: 0.671756 Loss: 1.090293 | Val Acc: 0.702602 loss: 0.854356\n",
            "[085/200] Train Acc: 0.672354 Loss: 1.090063 | Val Acc: 0.704797 loss: 0.842466\n",
            "[086/200] Train Acc: 0.672102 Loss: 1.089485 | Val Acc: 0.708049 loss: 0.834589\n",
            "[087/200] Train Acc: 0.672214 Loss: 1.089847 | Val Acc: 0.706992 loss: 0.848367\n",
            "[088/200] Train Acc: 0.672217 Loss: 1.089622 | Val Acc: 0.707724 loss: 0.840934\n",
            "[089/200] Train Acc: 0.672515 Loss: 1.089504 | Val Acc: 0.709268 loss: 0.839864\n",
            "[090/200] Train Acc: 0.671774 Loss: 1.091079 | Val Acc: 0.705122 loss: 0.863029\n",
            "[091/200] Train Acc: 0.671570 Loss: 1.090292 | Val Acc: 0.701138 loss: 0.855043\n",
            "[092/200] Train Acc: 0.672631 Loss: 1.089641 | Val Acc: 0.706911 loss: 0.829488\n",
            "[093/200] Train Acc: 0.672384 Loss: 1.089847 | Val Acc: 0.704959 loss: 0.844228\n",
            "[094/200] Train Acc: 0.672548 Loss: 1.089400 | Val Acc: 0.716260 loss: 0.840941\n",
            "saving model with acc 0.716\n",
            "[095/200] Train Acc: 0.671883 Loss: 1.090828 | Val Acc: 0.707154 loss: 0.846651\n",
            "[096/200] Train Acc: 0.671973 Loss: 1.089744 | Val Acc: 0.706260 loss: 0.857613\n",
            "[097/200] Train Acc: 0.672385 Loss: 1.088795 | Val Acc: 0.701951 loss: 0.832460\n",
            "[098/200] Train Acc: 0.672381 Loss: 1.089138 | Val Acc: 0.707561 loss: 0.840938\n",
            "[099/200] Train Acc: 0.672192 Loss: 1.090355 | Val Acc: 0.706098 loss: 0.853429\n",
            "[100/200] Train Acc: 0.672183 Loss: 1.089211 | Val Acc: 0.705447 loss: 0.846309\n",
            "[101/200] Train Acc: 0.672247 Loss: 1.089624 | Val Acc: 0.706179 loss: 0.846406\n",
            "[102/200] Train Acc: 0.672215 Loss: 1.089619 | Val Acc: 0.705366 loss: 0.849863\n",
            "[103/200] Train Acc: 0.672017 Loss: 1.089173 | Val Acc: 0.703171 loss: 0.849034\n",
            "[104/200] Train Acc: 0.672299 Loss: 1.089422 | Val Acc: 0.704634 loss: 0.850783\n",
            "[105/200] Train Acc: 0.672546 Loss: 1.089099 | Val Acc: 0.698699 loss: 0.855772\n",
            "[106/200] Train Acc: 0.671847 Loss: 1.091843 | Val Acc: 0.706260 loss: 0.854741\n",
            "[107/200] Train Acc: 0.671924 Loss: 1.088974 | Val Acc: 0.700081 loss: 0.855322\n",
            "[108/200] Train Acc: 0.671903 Loss: 1.090766 | Val Acc: 0.704878 loss: 0.841339\n",
            "[109/200] Train Acc: 0.672537 Loss: 1.089374 | Val Acc: 0.701301 loss: 0.851970\n",
            "[110/200] Train Acc: 0.672679 Loss: 1.089593 | Val Acc: 0.713089 loss: 0.838555\n",
            "[111/200] Train Acc: 0.671560 Loss: 1.089746 | Val Acc: 0.711951 loss: 0.835509\n",
            "[112/200] Train Acc: 0.671959 Loss: 1.089857 | Val Acc: 0.702846 loss: 0.851849\n",
            "[113/200] Train Acc: 0.672005 Loss: 1.090079 | Val Acc: 0.711789 loss: 0.838580\n",
            "[114/200] Train Acc: 0.672555 Loss: 1.089423 | Val Acc: 0.708049 loss: 0.836561\n",
            "[115/200] Train Acc: 0.672103 Loss: 1.090159 | Val Acc: 0.703089 loss: 0.844761\n",
            "[116/200] Train Acc: 0.672295 Loss: 1.090216 | Val Acc: 0.707724 loss: 0.844357\n",
            "[117/200] Train Acc: 0.672255 Loss: 1.089314 | Val Acc: 0.701138 loss: 0.855388\n",
            "[118/200] Train Acc: 0.672574 Loss: 1.088693 | Val Acc: 0.705203 loss: 0.846120\n",
            "[119/200] Train Acc: 0.671861 Loss: 1.089873 | Val Acc: 0.706179 loss: 0.861517\n",
            "[120/200] Train Acc: 0.672650 Loss: 1.088875 | Val Acc: 0.703740 loss: 0.838720\n",
            "[121/200] Train Acc: 0.672196 Loss: 1.088824 | Val Acc: 0.700407 loss: 0.853766\n",
            "[122/200] Train Acc: 0.672039 Loss: 1.089473 | Val Acc: 0.703171 loss: 0.849978\n",
            "[123/200] Train Acc: 0.671941 Loss: 1.088981 | Val Acc: 0.712114 loss: 0.826952\n",
            "[124/200] Train Acc: 0.672567 Loss: 1.088847 | Val Acc: 0.709919 loss: 0.839755\n",
            "[125/200] Train Acc: 0.672514 Loss: 1.088550 | Val Acc: 0.710732 loss: 0.831303\n",
            "[126/200] Train Acc: 0.672008 Loss: 1.089769 | Val Acc: 0.708537 loss: 0.854911\n",
            "[127/200] Train Acc: 0.672217 Loss: 1.088768 | Val Acc: 0.703171 loss: 0.844081\n",
            "[128/200] Train Acc: 0.672026 Loss: 1.089713 | Val Acc: 0.703984 loss: 0.852865\n",
            "[129/200] Train Acc: 0.672100 Loss: 1.090345 | Val Acc: 0.702358 loss: 0.847603\n",
            "[130/200] Train Acc: 0.672359 Loss: 1.088760 | Val Acc: 0.707398 loss: 0.853269\n",
            "[131/200] Train Acc: 0.672068 Loss: 1.089796 | Val Acc: 0.708049 loss: 0.834400\n",
            "[132/200] Train Acc: 0.672895 Loss: 1.087664 | Val Acc: 0.702927 loss: 0.851676\n",
            "[133/200] Train Acc: 0.671338 Loss: 1.090247 | Val Acc: 0.704146 loss: 0.848257\n",
            "[134/200] Train Acc: 0.672397 Loss: 1.089563 | Val Acc: 0.699350 loss: 0.863589\n",
            "[135/200] Train Acc: 0.672384 Loss: 1.088468 | Val Acc: 0.703252 loss: 0.852122\n",
            "[136/200] Train Acc: 0.672186 Loss: 1.089415 | Val Acc: 0.703171 loss: 0.844165\n",
            "[137/200] Train Acc: 0.672431 Loss: 1.089274 | Val Acc: 0.703089 loss: 0.841303\n",
            "[138/200] Train Acc: 0.672168 Loss: 1.088969 | Val Acc: 0.707561 loss: 0.831406\n",
            "[139/200] Train Acc: 0.671948 Loss: 1.088420 | Val Acc: 0.705772 loss: 0.847055\n",
            "[140/200] Train Acc: 0.672402 Loss: 1.088926 | Val Acc: 0.704715 loss: 0.842045\n",
            "[141/200] Train Acc: 0.672237 Loss: 1.088671 | Val Acc: 0.708293 loss: 0.837639\n",
            "[142/200] Train Acc: 0.671931 Loss: 1.089715 | Val Acc: 0.700650 loss: 0.852228\n",
            "[143/200] Train Acc: 0.672359 Loss: 1.088734 | Val Acc: 0.706504 loss: 0.859538\n",
            "[144/200] Train Acc: 0.672201 Loss: 1.089462 | Val Acc: 0.698699 loss: 0.859853\n",
            "[145/200] Train Acc: 0.672340 Loss: 1.090037 | Val Acc: 0.702276 loss: 0.847421\n",
            "[146/200] Train Acc: 0.672355 Loss: 1.089388 | Val Acc: 0.709837 loss: 0.824750\n",
            "[147/200] Train Acc: 0.672857 Loss: 1.089569 | Val Acc: 0.701870 loss: 0.859192\n",
            "[148/200] Train Acc: 0.672840 Loss: 1.088391 | Val Acc: 0.701951 loss: 0.850089\n",
            "[149/200] Train Acc: 0.672110 Loss: 1.089848 | Val Acc: 0.711057 loss: 0.838513\n",
            "[150/200] Train Acc: 0.671867 Loss: 1.088567 | Val Acc: 0.702033 loss: 0.863500\n",
            "[151/200] Train Acc: 0.672248 Loss: 1.090131 | Val Acc: 0.706423 loss: 0.851858\n",
            "[152/200] Train Acc: 0.672372 Loss: 1.088479 | Val Acc: 0.707724 loss: 0.846290\n",
            "[153/200] Train Acc: 0.672367 Loss: 1.089234 | Val Acc: 0.701463 loss: 0.857279\n",
            "[154/200] Train Acc: 0.671965 Loss: 1.088848 | Val Acc: 0.701707 loss: 0.859734\n",
            "[155/200] Train Acc: 0.672050 Loss: 1.088463 | Val Acc: 0.706179 loss: 0.839953\n",
            "[156/200] Train Acc: 0.672390 Loss: 1.089640 | Val Acc: 0.700325 loss: 0.857910\n",
            "[157/200] Train Acc: 0.672549 Loss: 1.089104 | Val Acc: 0.707073 loss: 0.843186\n",
            "[158/200] Train Acc: 0.671795 Loss: 1.089863 | Val Acc: 0.708130 loss: 0.847553\n",
            "[159/200] Train Acc: 0.672321 Loss: 1.089042 | Val Acc: 0.700000 loss: 0.858179\n",
            "[160/200] Train Acc: 0.671962 Loss: 1.089334 | Val Acc: 0.696992 loss: 0.854625\n",
            "[161/200] Train Acc: 0.672171 Loss: 1.090418 | Val Acc: 0.706423 loss: 0.846536\n",
            "[162/200] Train Acc: 0.672027 Loss: 1.090166 | Val Acc: 0.702927 loss: 0.847067\n",
            "[163/200] Train Acc: 0.671728 Loss: 1.090279 | Val Acc: 0.701870 loss: 0.861939\n",
            "[164/200] Train Acc: 0.672275 Loss: 1.089373 | Val Acc: 0.713740 loss: 0.828942\n",
            "[165/200] Train Acc: 0.671926 Loss: 1.090165 | Val Acc: 0.705366 loss: 0.838967\n",
            "[166/200] Train Acc: 0.672242 Loss: 1.088880 | Val Acc: 0.703821 loss: 0.857411\n",
            "[167/200] Train Acc: 0.672050 Loss: 1.089941 | Val Acc: 0.705447 loss: 0.836162\n",
            "[168/200] Train Acc: 0.672442 Loss: 1.089148 | Val Acc: 0.708618 loss: 0.847862\n",
            "[169/200] Train Acc: 0.672105 Loss: 1.089460 | Val Acc: 0.706992 loss: 0.837985\n",
            "[170/200] Train Acc: 0.671650 Loss: 1.089476 | Val Acc: 0.705528 loss: 0.860878\n",
            "[171/200] Train Acc: 0.671808 Loss: 1.090233 | Val Acc: 0.703415 loss: 0.864704\n",
            "[172/200] Train Acc: 0.672338 Loss: 1.088447 | Val Acc: 0.704715 loss: 0.846868\n",
            "[173/200] Train Acc: 0.672845 Loss: 1.088675 | Val Acc: 0.711382 loss: 0.830446\n",
            "[174/200] Train Acc: 0.672363 Loss: 1.088576 | Val Acc: 0.703252 loss: 0.845939\n",
            "[175/200] Train Acc: 0.672581 Loss: 1.088882 | Val Acc: 0.705285 loss: 0.837564\n",
            "[176/200] Train Acc: 0.672134 Loss: 1.090815 | Val Acc: 0.703984 loss: 0.848309\n",
            "[177/200] Train Acc: 0.672391 Loss: 1.089056 | Val Acc: 0.706260 loss: 0.844109\n",
            "[178/200] Train Acc: 0.672081 Loss: 1.089386 | Val Acc: 0.705447 loss: 0.837888\n",
            "[179/200] Train Acc: 0.671955 Loss: 1.090208 | Val Acc: 0.705854 loss: 0.860977\n",
            "[180/200] Train Acc: 0.672172 Loss: 1.090021 | Val Acc: 0.699187 loss: 0.847471\n",
            "[181/200] Train Acc: 0.672554 Loss: 1.089046 | Val Acc: 0.702195 loss: 0.862533\n",
            "[182/200] Train Acc: 0.673428 Loss: 1.088190 | Val Acc: 0.710650 loss: 0.833573\n",
            "[183/200] Train Acc: 0.672375 Loss: 1.088778 | Val Acc: 0.700325 loss: 0.857950\n",
            "[184/200] Train Acc: 0.671962 Loss: 1.088869 | Val Acc: 0.703577 loss: 0.835258\n",
            "[185/200] Train Acc: 0.672288 Loss: 1.088477 | Val Acc: 0.704634 loss: 0.848990\n",
            "[186/200] Train Acc: 0.672531 Loss: 1.089238 | Val Acc: 0.706260 loss: 0.856560\n",
            "[187/200] Train Acc: 0.672357 Loss: 1.089003 | Val Acc: 0.707886 loss: 0.843376\n",
            "[188/200] Train Acc: 0.672306 Loss: 1.089664 | Val Acc: 0.703821 loss: 0.857201\n",
            "[189/200] Train Acc: 0.672843 Loss: 1.089270 | Val Acc: 0.703008 loss: 0.854812\n",
            "[190/200] Train Acc: 0.672275 Loss: 1.088416 | Val Acc: 0.701870 loss: 0.850500\n",
            "[191/200] Train Acc: 0.672682 Loss: 1.088627 | Val Acc: 0.711707 loss: 0.847111\n",
            "[192/200] Train Acc: 0.671968 Loss: 1.089749 | Val Acc: 0.705203 loss: 0.839925\n",
            "[193/200] Train Acc: 0.672017 Loss: 1.089534 | Val Acc: 0.708537 loss: 0.838285\n",
            "[194/200] Train Acc: 0.672457 Loss: 1.087633 | Val Acc: 0.709187 loss: 0.833769\n",
            "[195/200] Train Acc: 0.672373 Loss: 1.089589 | Val Acc: 0.706504 loss: 0.844145\n",
            "[196/200] Train Acc: 0.672298 Loss: 1.088755 | Val Acc: 0.702764 loss: 0.840724\n",
            "[197/200] Train Acc: 0.672534 Loss: 1.089139 | Val Acc: 0.704959 loss: 0.846153\n",
            "[198/200] Train Acc: 0.672176 Loss: 1.089079 | Val Acc: 0.707236 loss: 0.850324\n",
            "[199/200] Train Acc: 0.671971 Loss: 1.089551 | Val Acc: 0.712683 loss: 0.824214\n",
            "[200/200] Train Acc: 0.672591 Loss: 1.088990 | Val Acc: 0.701870 loss: 0.847389\n"
          ]
        }
      ],
      "source": [
        "# start training\n",
        "\n",
        "best_acc = 0.0\n",
        "for epoch in range(num_epoch):\n",
        "    train_acc = 0.0\n",
        "    train_loss = 0.0\n",
        "    val_acc = 0.0\n",
        "    val_loss = 0.0\n",
        "    if epoch == 40:\n",
        "      optimizer = torch.optim.SGD(model.parameters())\n",
        "    # training\n",
        "    model.train() # set the model to training mode\n",
        "    for i, data in enumerate(train_loader):\n",
        "        inputs, labels = data\n",
        "        inputs, labels = inputs.to(device), labels.to(device)\n",
        "        optimizer.zero_grad()\n",
        "        outputs = model(inputs)\n",
        "        batch_loss = criterion(outputs, labels)\n",
        "        _, train_pred = torch.max(outputs, 1) # get the index of the class with the highest probability\n",
        "        (batch_loss+cal_regularization(model,weight_decay_l1,weight_decay_l2)).backward()\n",
        "        optimizer.step()\n",
        "\n",
        "        train_acc += (train_pred.cpu() == labels.cpu()).sum().item()\n",
        "        train_loss += batch_loss.item()\n",
        "\n",
        "    # validation\n",
        "    if len(val_set) > 0:\n",
        "        model.eval() # set the model to evaluation mode\n",
        "        with torch.no_grad():\n",
        "            for i, data in enumerate(val_loader):\n",
        "                inputs, labels = data\n",
        "                inputs, labels = inputs.to(device), labels.to(device)\n",
        "                outputs = model(inputs)\n",
        "                batch_loss = criterion(outputs, labels)\n",
        "                _, val_pred = torch.max(outputs, 1)\n",
        "\n",
        "                val_acc += (val_pred.cpu() == labels.cpu()).sum().item() # get the index of the class with the highest probability\n",
        "                val_loss += batch_loss.item()\n",
        "\n",
        "            print('[{:03d}/{:03d}] Train Acc: {:3.6f} Loss: {:3.6f} | Val Acc: {:3.6f} loss: {:3.6f}'.format(\n",
        "                epoch + 1, num_epoch, train_acc/len(train_set), train_loss/len(train_loader), val_acc/len(val_set), val_loss/len(val_loader)\n",
        "            ))\n",
        "\n",
        "            # if the model improves, save a checkpoint at this epoch\n",
        "            if val_acc > best_acc:\n",
        "                best_acc = val_acc\n",
        "                torch.save(model.state_dict(), model_path)\n",
        "                print('saving model with acc {:.3f}'.format(best_acc/len(val_set)))\n",
        "    else:\n",
        "        print('[{:03d}/{:03d}] Train Acc: {:3.6f} Loss: {:3.6f}'.format(\n",
        "            epoch + 1, num_epoch, train_acc/len(train_set), train_loss/len(train_loader)\n",
        "        ))\n",
        "\n",
        "# if not validating, save the last epoch\n",
        "if len(val_set) == 0:\n",
        "    torch.save(model.state_dict(), model_path)\n",
        "    print('saving model at last epoch')\n"
      ]
    },
    {
      "cell_type": "markdown",
      "metadata": {
        "id": "1Hi7jTn3PX-m"
      },
      "source": [
        "## Testing"
      ]
    },
    {
      "cell_type": "markdown",
      "metadata": {
        "id": "NfUECMFCn5VG"
      },
      "source": [
        "Create a testing dataset, and load model from the saved checkpoint."
      ]
    },
    {
      "cell_type": "code",
      "execution_count": null,
      "metadata": {
        "colab": {
          "base_uri": "https://localhost:8080/"
        },
        "id": "1PKjtAScPWtr",
        "outputId": "bb1db60a-5d2d-463e-e9ed-2f251936474e"
      },
      "outputs": [
        {
          "data": {
            "text/plain": [
              "<All keys matched successfully>"
            ]
          },
          "execution_count": 14,
          "metadata": {},
          "output_type": "execute_result"
        }
      ],
      "source": [
        "# create testing dataset\n",
        "test_set = TIMITDataset(test, None)\n",
        "test_loader = DataLoader(test_set, batch_size=BATCH_SIZE, shuffle=False)\n",
        "\n",
        "# create model and load weights from checkpoint\n",
        "model = Classifier().to(device)\n",
        "model.load_state_dict(torch.load(model_path))"
      ]
    },
    {
      "cell_type": "markdown",
      "metadata": {
        "id": "940TtCCdoYd0"
      },
      "source": [
        "Make prediction."
      ]
    },
    {
      "cell_type": "code",
      "execution_count": null,
      "metadata": {
        "id": "84HU5GGjPqR0"
      },
      "outputs": [],
      "source": [
        "predict = []\n",
        "model.eval() # set the model to evaluation mode\n",
        "with torch.no_grad():\n",
        "    for i, data in enumerate(test_loader):\n",
        "        inputs = data\n",
        "        inputs = inputs.to(device)\n",
        "        outputs = model(inputs)\n",
        "        _, test_pred = torch.max(outputs, 1) # get the index of the class with the highest probability\n",
        "\n",
        "        for y in test_pred.cpu().numpy():\n",
        "            predict.append(y)"
      ]
    },
    {
      "cell_type": "markdown",
      "metadata": {
        "id": "AWDf_C-omElb"
      },
      "source": [
        "Write prediction to a CSV file.\n",
        "\n",
        "After finish running this block, download the file `prediction.csv` from the files section on the left-hand side and submit it to Kaggle."
      ]
    },
    {
      "cell_type": "code",
      "execution_count": null,
      "metadata": {
        "id": "GuljYSPHcZir"
      },
      "outputs": [],
      "source": [
        "with open('prediction.csv', 'w') as f:\n",
        "    f.write('Id,Class\\n')\n",
        "    for i, y in enumerate(predict):\n",
        "        f.write('{},{}\\n'.format(i, y))"
      ]
    }
  ],
  "metadata": {
    "accelerator": "GPU",
    "colab": {
      "provenance": []
    },
    "kernelspec": {
      "display_name": "Python 3",
      "name": "python3"
    }
  },
  "nbformat": 4,
  "nbformat_minor": 0
}